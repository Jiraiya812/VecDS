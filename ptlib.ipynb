{
 "cells": [
  {
   "cell_type": "code",
   "execution_count": 7,
   "metadata": {
    "collapsed": true
   },
   "outputs": [],
   "source": [
    "import pandas as pd  # data processing, CSV file I/O (e.g. pd.read_csv)\n",
    "from sklearn.model_selection import train_test_split  # for validation\n",
    "import gc  # memory\n",
    "from datetime import datetime  # train time checking\n",
    "import time\n",
    "import sys\n",
    "from tqdm import tqdm"
   ]
  },
  {
   "cell_type": "code",
   "execution_count": 8,
   "metadata": {
    "collapsed": false
   },
   "outputs": [],
   "source": [
    "from veclib.solution import *\n",
    "from veclib.modellib import *\n",
    "from veclib.ptlib import *\n",
    "from veclib.featurelib import *\n",
    "from veclib.utils import *"
   ]
  },
  {
   "cell_type": "code",
   "execution_count": 9,
   "metadata": {
    "collapsed": true
   },
   "outputs": [],
   "source": [
    "TRAIN_FILE = 'dev.csv'\n",
    "TEST_FILE= 'dev_test.csv'\n",
    "SKIP_TRAIN_ROWS= None #range(1,109903891) #184903889 18790468\n",
    "NUM_TRAIN_ROWS= None\n",
    "NUM_TEST_ROWS= None\n",
    "FEATURE_PPL = [f_base,f_hour,f_dfw,f_count,f_mean_hour]\n",
    "METHOD = 'xgb'\n",
    "TRANSDUCTIVE = True\n",
    "PARA_TUNE = False\n",
    "RELEASE = True\n",
    "PARA_TUNE_CFG = './cfg/default.cfg'"
   ]
  },
  {
   "cell_type": "code",
   "execution_count": 10,
   "metadata": {
    "collapsed": false
   },
   "outputs": [],
   "source": [
    "d = DataSet()\n",
    "d.train_file=TRAIN_FILE\n",
    "d.test_file=TEST_FILE\n",
    "d.skip_train_rows=SKIP_TRAIN_ROWS\n",
    "d.num_train_rows = NUM_TRAIN_ROWS\n",
    "d.num_test_rows= NUM_TEST_ROWS\n",
    "\n",
    "s = Solution()\n",
    "s.data_set = d\n",
    "s.method = METHOD\n",
    "s.f_ppl= FEATURE_PPL\n",
    "s.para_tune_fcg = PARA_TUNE_CFG\n",
    "s.transductive = TRANSDUCTIVE"
   ]
  },
  {
   "cell_type": "code",
   "execution_count": 11,
   "metadata": {
    "collapsed": false
   },
   "outputs": [
    {
     "name": "stdout",
     "output_type": "stream",
     "text": [
      "\n",
      ">>>>  Load Dataset Start \n",
      "\n",
      "\n",
      ">>>>  Load Dataset Done --------------------------------------------------------------------------- TC:0.1829\n",
      "\n"
     ]
    }
   ],
   "source": [
    "s.load_dataset()"
   ]
  },
  {
   "cell_type": "code",
   "execution_count": 12,
   "metadata": {
    "collapsed": false
   },
   "outputs": [],
   "source": [
    "# dev_df = s.train_df.sample(100000)\n",
    "# dev_df.to_csv(s.input_path+'dev.csv')\n",
    "\n",
    "# dev_test_df = s.test_df.sample(10000)\n",
    "# dev_test_df.to_csv(s.input_path+'dev_test.csv')"
   ]
  },
  {
   "cell_type": "code",
   "execution_count": 13,
   "metadata": {
    "collapsed": false
   },
   "outputs": [
    {
     "name": "stdout",
     "output_type": "stream",
     "text": [
      "\n",
      ">>>>  Build Features Start \n",
      "\n",
      "Feature Selected:\tip,os_device_hour_count,channel,dayofweek,os_device_mean_hour,ip_count,os_device_count,os,device,app,hour,app_channel_count,ip_mean_hour,ip_hour_count\n",
      "\n",
      ">>>>  Build Features Done ------------------------------------------------------------------------- TC:1.417\n",
      "\n",
      "       ip  os_device_hour_count  channel  dayofweek  os_device_mean_hour  \\\n",
      "0  163294                    91      125          3                   10   \n",
      "1   78646                   294      178          2                    9   \n",
      "2   18703                   235      466          3                    9   \n",
      "3   63368                    46      459          1                    9   \n",
      "4  255213                   894      435          2                    9   \n",
      "\n",
      "   ip_count  os_device_count  os  device  app  hour  app_channel_count  \\\n",
      "0         3              935  13       2    6    10                554   \n",
      "1         4             5200  18       1   12     9               2954   \n",
      "2        31             4258  22       1    9     9               1349   \n",
      "3         2             1569  37       1   64    16               1035   \n",
      "4         1            22662  13       1    2     8               1416   \n",
      "\n",
      "   ip_mean_hour  ip_hour_count  \n",
      "0            11              1  \n",
      "1             8              1  \n",
      "2            10              3  \n",
      "3             9              1  \n",
      "4             8              1  \n",
      "       ip  os_device_hour_count  channel  dayofweek  os_device_mean_hour  \\\n",
      "0   38720                    33      489          4                    9   \n",
      "1   45214                    33      424          4                    9   \n",
      "2  125798                  1602      489          4                    9   \n",
      "3   23071                  1581      213          4                    9   \n",
      "4   61793                  1602      140          4                    9   \n",
      "\n",
      "   ip_count  os_device_count  os  device  app  hour  app_channel_count  \\\n",
      "0         1              448  31       1    3    10                762   \n",
      "1         7              368  36       1    3    13                753   \n",
      "2         6            25513  19       1    9    13                318   \n",
      "3         1            22662  13       1   29    13                125   \n",
      "4         3            25513  19       1   15    13                544   \n",
      "\n",
      "   ip_mean_hour  ip_hour_count  \n",
      "0            10              1  \n",
      "1             9              2  \n",
      "2             8              1  \n",
      "3            13              1  \n",
      "4             6              1  \n"
     ]
    }
   ],
   "source": [
    "s.build_features()"
   ]
  },
  {
   "cell_type": "code",
   "execution_count": 14,
   "metadata": {
    "collapsed": false
   },
   "outputs": [
    {
     "data": {
      "text/plain": [
       "([mean: 0.94146, std: 0.01795, params: {'max_depth': 1, 'min_child_weight': 0.5},\n",
       "  mean: 0.94146, std: 0.01795, params: {'max_depth': 1, 'min_child_weight': 0.7},\n",
       "  mean: 0.94146, std: 0.01795, params: {'max_depth': 1, 'min_child_weight': 1},\n",
       "  mean: 0.94146, std: 0.01795, params: {'max_depth': 1, 'min_child_weight': 1.2},\n",
       "  mean: 0.93680, std: 0.02128, params: {'max_depth': 2, 'min_child_weight': 0.5},\n",
       "  mean: 0.93751, std: 0.02224, params: {'max_depth': 2, 'min_child_weight': 0.7},\n",
       "  mean: 0.93676, std: 0.02151, params: {'max_depth': 2, 'min_child_weight': 1},\n",
       "  mean: 0.93783, std: 0.02034, params: {'max_depth': 2, 'min_child_weight': 1.2},\n",
       "  mean: 0.93322, std: 0.02405, params: {'max_depth': 3, 'min_child_weight': 0.5},\n",
       "  mean: 0.93151, std: 0.02668, params: {'max_depth': 3, 'min_child_weight': 0.7},\n",
       "  mean: 0.93126, std: 0.02695, params: {'max_depth': 3, 'min_child_weight': 1},\n",
       "  mean: 0.93161, std: 0.02573, params: {'max_depth': 3, 'min_child_weight': 1.2},\n",
       "  mean: 0.93153, std: 0.02774, params: {'max_depth': 4, 'min_child_weight': 0.5},\n",
       "  mean: 0.93248, std: 0.02459, params: {'max_depth': 4, 'min_child_weight': 0.7},\n",
       "  mean: 0.93008, std: 0.02727, params: {'max_depth': 4, 'min_child_weight': 1},\n",
       "  mean: 0.92821, std: 0.02801, params: {'max_depth': 4, 'min_child_weight': 1.2},\n",
       "  mean: 0.93102, std: 0.02705, params: {'max_depth': 5, 'min_child_weight': 0.5},\n",
       "  mean: 0.93055, std: 0.02791, params: {'max_depth': 5, 'min_child_weight': 0.7},\n",
       "  mean: 0.93247, std: 0.02545, params: {'max_depth': 5, 'min_child_weight': 1},\n",
       "  mean: 0.93308, std: 0.02606, params: {'max_depth': 5, 'min_child_weight': 1.2},\n",
       "  mean: 0.93238, std: 0.02545, params: {'max_depth': 6, 'min_child_weight': 0.5},\n",
       "  mean: 0.93078, std: 0.02500, params: {'max_depth': 6, 'min_child_weight': 0.7},\n",
       "  mean: 0.93561, std: 0.02371, params: {'max_depth': 6, 'min_child_weight': 1},\n",
       "  mean: 0.93064, std: 0.02806, params: {'max_depth': 6, 'min_child_weight': 1.2}],\n",
       " {'max_depth': 1, 'min_child_weight': 0.5},\n",
       " 0.9414551760008955)"
      ]
     },
     "execution_count": 14,
     "metadata": {},
     "output_type": "execute_result"
    }
   ],
   "source": [
    "param_test1 = {\n",
    "               'max_depth':[1,2,3,4,5,6],\n",
    "               'min_child_weight':[0.5,0.7,1,1.2]\n",
    "               }\n",
    "\n",
    "gsearch1 = GridSearchCV(\n",
    "    estimator = XGBClassifier(learning_rate=0.3,\n",
    "                      n_estimators=1000,\n",
    "                      objective='binary:logistic',\n",
    "                      nthread=8,\n",
    "                      max_depth=5,\n",
    "                      min_child_weight=0,\n",
    "                      subsample=0.9,\n",
    "                      colsample_bytree=0.7,\n",
    "                      reg_alpha=4,\n",
    "                      scale_pos_weight=0.9,\n",
    "                      seed=99), \n",
    "                      param_grid = param_test1,     \n",
    "                      scoring='roc_auc', \n",
    "                      n_jobs=4,\n",
    "                      iid=False, \n",
    "                      cv=5)\n",
    "\n",
    "gsearch1.fit(s.train_df,s.label_df)\n",
    "para_dict = gsearch1.best_params_\n",
    "gsearch1.grid_scores_, gsearch1.best_params_, gsearch1.best_score_"
   ]
  },
  {
   "cell_type": "code",
   "execution_count": 16,
   "metadata": {
    "collapsed": false
   },
   "outputs": [
    {
     "data": {
      "text/plain": [
       "([mean: 0.93897, std: 0.08212, params: {'gamma': 0.0},\n",
       "  mean: 0.93256, std: 0.09379, params: {'gamma': 0.1},\n",
       "  mean: 0.93132, std: 0.09524, params: {'gamma': 0.2},\n",
       "  mean: 0.93045, std: 0.09324, params: {'gamma': 0.3},\n",
       "  mean: 0.93436, std: 0.09119, params: {'gamma': 0.4}],\n",
       " {'gamma': 0.0},\n",
       " 0.9389690112421432)"
      ]
     },
     "execution_count": 16,
     "metadata": {},
     "output_type": "execute_result"
    }
   ],
   "source": [
    "param_test2 = {\n",
    "               'gamma':[i/10.0 for i in range(0,5)]\n",
    "               }\n",
    "\n",
    "gsearch2 = GridSearchCV(\n",
    "    estimator = XGBClassifier(learning_rate=0.3,\n",
    "                      n_estimators=1000,\n",
    "                      objective='binary:logistic',\n",
    "                      nthread=8,\n",
    "                      max_depth=5,\n",
    "                      min_child_weight=0,\n",
    "                      subsample=0.9,\n",
    "                      colsample_bytree=0.7,\n",
    "                      reg_alpha=4,\n",
    "                      scale_pos_weight=0.9,\n",
    "                      seed=99), \n",
    "                      param_grid = param_test2,     \n",
    "                      scoring='roc_auc', \n",
    "                      n_jobs=4,\n",
    "                      iid=False, \n",
    "                      cv=5)\n",
    "\n",
    "gsearch2.fit(s.train_df,s.label_df)\n",
    "para_dict.update(gsearch2.best_params_)\n",
    "gsearch2.grid_scores_, gsearch2.best_params_, gsearch2.best_score_"
   ]
  },
  {
   "cell_type": "code",
   "execution_count": 17,
   "metadata": {
    "collapsed": false
   },
   "outputs": [
    {
     "data": {
      "text/plain": [
       "([mean: 0.95650, std: 0.04210, params: {'colsample_bytree': 0.6, 'subsample': 0.6},\n",
       "  mean: 0.92728, std: 0.10051, params: {'colsample_bytree': 0.6, 'subsample': 0.7},\n",
       "  mean: 0.93697, std: 0.08380, params: {'colsample_bytree': 0.6, 'subsample': 0.8},\n",
       "  mean: 0.93870, std: 0.08342, params: {'colsample_bytree': 0.6, 'subsample': 0.9},\n",
       "  mean: 0.94939, std: 0.06019, params: {'colsample_bytree': 0.7, 'subsample': 0.6},\n",
       "  mean: 0.92765, std: 0.10350, params: {'colsample_bytree': 0.7, 'subsample': 0.7},\n",
       "  mean: 0.94508, std: 0.06823, params: {'colsample_bytree': 0.7, 'subsample': 0.8},\n",
       "  mean: 0.93897, std: 0.08212, params: {'colsample_bytree': 0.7, 'subsample': 0.9},\n",
       "  mean: 0.95116, std: 0.05926, params: {'colsample_bytree': 0.8, 'subsample': 0.6},\n",
       "  mean: 0.94846, std: 0.06430, params: {'colsample_bytree': 0.8, 'subsample': 0.7},\n",
       "  mean: 0.92588, std: 0.10549, params: {'colsample_bytree': 0.8, 'subsample': 0.8},\n",
       "  mean: 0.93246, std: 0.09506, params: {'colsample_bytree': 0.8, 'subsample': 0.9},\n",
       "  mean: 0.95210, std: 0.05650, params: {'colsample_bytree': 0.9, 'subsample': 0.6},\n",
       "  mean: 0.94595, std: 0.06634, params: {'colsample_bytree': 0.9, 'subsample': 0.7},\n",
       "  mean: 0.92838, std: 0.10238, params: {'colsample_bytree': 0.9, 'subsample': 0.8},\n",
       "  mean: 0.93292, std: 0.09498, params: {'colsample_bytree': 0.9, 'subsample': 0.9}],\n",
       " {'colsample_bytree': 0.6, 'subsample': 0.6},\n",
       " 0.9565031768652652)"
      ]
     },
     "execution_count": 17,
     "metadata": {},
     "output_type": "execute_result"
    }
   ],
   "source": [
    "param_test3 = {\n",
    "               'subsample':[i/10.0 for i in range(6,10)],\n",
    "               'colsample_bytree':[i/10.0 for i in range(6,10)]\n",
    "               }\n",
    "\n",
    "gsearch3 = GridSearchCV(\n",
    "    estimator = XGBClassifier(learning_rate=0.3,\n",
    "                      n_estimators=1000,\n",
    "                      objective='binary:logistic',\n",
    "                      nthread=8,\n",
    "                      max_depth=5,\n",
    "                      min_child_weight=0,\n",
    "                      subsample=0.9,\n",
    "                      colsample_bytree=0.7,\n",
    "                      reg_alpha=4,\n",
    "                      scale_pos_weight=0.9,\n",
    "                      seed=99), \n",
    "                      param_grid = param_test3,     \n",
    "                      scoring='roc_auc', \n",
    "                      n_jobs=4,\n",
    "                      iid=False, \n",
    "                      cv=5)\n",
    "\n",
    "gsearch3.fit(s.train_df,s.label_df)\n",
    "para_dict.update(gsearch3.best_params_)\n",
    "gsearch3.grid_scores_, gsearch3.best_params_, gsearch3.best_score_"
   ]
  },
  {
   "cell_type": "code",
   "execution_count": 18,
   "metadata": {
    "collapsed": false
   },
   "outputs": [
    {
     "data": {
      "text/plain": [
       "([mean: 0.95266, std: 0.03821, params: {'reg_alpha': 1e-05},\n",
       "  mean: 0.94925, std: 0.04309, params: {'reg_alpha': 0.01},\n",
       "  mean: 0.95139, std: 0.03896, params: {'reg_alpha': 0.1},\n",
       "  mean: 0.96833, std: 0.02466, params: {'reg_alpha': 1},\n",
       "  mean: 0.81965, std: 0.15242, params: {'reg_alpha': 100}],\n",
       " {'reg_alpha': 1},\n",
       " 0.9683268241598544)"
      ]
     },
     "execution_count": 18,
     "metadata": {},
     "output_type": "execute_result"
    }
   ],
   "source": [
    "param_test4 = {\n",
    "               'reg_alpha':[1e-5, 1e-2, 0.1, 1, 100]\n",
    "              }\n",
    "\n",
    "gsearch4 = GridSearchCV(\n",
    "    estimator = XGBClassifier(learning_rate=0.3,\n",
    "                      n_estimators=1000,\n",
    "                      objective='binary:logistic',\n",
    "                      nthread=8,\n",
    "                      max_depth=5,\n",
    "                      min_child_weight=0,\n",
    "                      subsample=0.9,\n",
    "                      colsample_bytree=0.7,\n",
    "                      reg_alpha=4,\n",
    "                      scale_pos_weight=0.9,\n",
    "                      seed=99), \n",
    "                      param_grid = param_test4,     \n",
    "                      scoring='roc_auc', \n",
    "                      n_jobs=4,\n",
    "                      iid=False, \n",
    "                      cv=5)\n",
    "\n",
    "gsearch4.fit(s.train_df,s.label_df)\n",
    "para_dict.update(gsearch4.best_params_)\n",
    "gsearch4.grid_scores_, gsearch4.best_params_, gsearch4.best_score_"
   ]
  },
  {
   "cell_type": "code",
   "execution_count": 19,
   "metadata": {
    "collapsed": false
   },
   "outputs": [],
   "source": [
    "save_json(para_dict, PARA_TUNE_CFG)"
   ]
  },
  {
   "cell_type": "code",
   "execution_count": 20,
   "metadata": {
    "collapsed": false
   },
   "outputs": [
    {
     "name": "stdout",
     "output_type": "stream",
     "text": [
      "\n",
      ">>>>  Model training Start \n",
      "\n",
      "[0]\ttrain-auc:0.538107+0.0191645\ttest-auc:0.4999+0.0002008\n",
      "[1]\ttrain-auc:0.538107+0.0191645\ttest-auc:0.4999+0.0002008\n",
      "[2]\ttrain-auc:0.61918+0.107721\ttest-auc:0.548397+0.0985535\n",
      "[3]\ttrain-auc:0.725051+0.0996928\ttest-auc:0.64599+0.131645\n",
      "[4]\ttrain-auc:0.793597+0.0528426\ttest-auc:0.677017+0.111193\n",
      "[5]\ttrain-auc:0.802545+0.0651831\ttest-auc:0.67558+0.112814\n",
      "[6]\ttrain-auc:0.811422+0.0798079\ttest-auc:0.673876+0.113636\n",
      "[7]\ttrain-auc:0.838191+0.0620873\ttest-auc:0.787267+0.195812\n",
      "[8]\ttrain-auc:0.902723+0.0385791\ttest-auc:0.786933+0.1966\n",
      "[9]\ttrain-auc:0.902267+0.0383817\ttest-auc:0.786933+0.1966\n",
      "[10]\ttrain-auc:0.92921+0.0456693\ttest-auc:0.787635+0.197212\n",
      "[11]\ttrain-auc:0.947461+0.01808\ttest-auc:0.845976+0.193241\n",
      "[12]\ttrain-auc:0.975655+0.0217186\ttest-auc:0.920695+0.122754\n",
      "[13]\ttrain-auc:0.976586+0.0220191\ttest-auc:0.916503+0.129462\n",
      "[14]\ttrain-auc:0.984004+0.00787127\ttest-auc:0.91774+0.130071\n",
      "[15]\ttrain-auc:0.984371+0.00704207\ttest-auc:0.917673+0.130021\n",
      "[16]\ttrain-auc:0.985+0.00833099\ttest-auc:0.917205+0.129761\n",
      "[17]\ttrain-auc:0.98538+0.00791696\ttest-auc:0.911811+0.141204\n",
      "[18]\ttrain-auc:0.987208+0.00495854\ttest-auc:0.91238+0.141462\n",
      "[19]\ttrain-auc:0.986946+0.00203437\ttest-auc:0.914486+0.142279\n",
      "[20]\ttrain-auc:0.989296+0.00339842\ttest-auc:0.913717+0.142256\n",
      "[21]\ttrain-auc:0.990042+0.00302974\ttest-auc:0.913667+0.142356\n",
      "[22]\ttrain-auc:0.991441+0.00297165\ttest-auc:0.913198+0.142195\n",
      "[23]\ttrain-auc:0.991633+0.00324676\ttest-auc:0.912914+0.14217\n",
      "[24]\ttrain-auc:0.992211+0.0031639\ttest-auc:0.912145+0.141894\n",
      "[25]\ttrain-auc:0.992716+0.00294626\ttest-auc:0.912814+0.142245\n",
      "[26]\ttrain-auc:0.992576+0.00317922\ttest-auc:0.912881+0.142293\n",
      "[27]\ttrain-auc:0.993044+0.00312958\ttest-auc:0.903863+0.160276\n",
      "[28]\ttrain-auc:0.993433+0.00295828\ttest-auc:0.903863+0.160276\n",
      "[29]\ttrain-auc:0.993802+0.00273732\ttest-auc:0.903863+0.16029\n",
      "[30]\ttrain-auc:0.993937+0.0026148\ttest-auc:0.903996+0.160337\n",
      "[31]\ttrain-auc:0.993973+0.00265234\ttest-auc:0.903996+0.160337\n",
      "[32]\ttrain-auc:0.994149+0.00271558\ttest-auc:0.903996+0.160337\n",
      "[33]\ttrain-auc:0.994116+0.00268382\ttest-auc:0.903896+0.160282\n",
      "[34]\ttrain-auc:0.994081+0.00269166\ttest-auc:0.903562+0.1601\n",
      "[35]\ttrain-auc:0.994326+0.00266803\ttest-auc:0.903996+0.160359\n",
      "[36]\ttrain-auc:0.994413+0.00266812\ttest-auc:0.900439+0.167454\n",
      "[37]\ttrain-auc:0.994365+0.00268937\ttest-auc:0.900606+0.167526\n",
      "[38]\ttrain-auc:0.994422+0.00266783\ttest-auc:0.900606+0.167526\n",
      "[39]\ttrain-auc:0.994392+0.00271819\ttest-auc:0.900606+0.167526\n",
      "[40]\ttrain-auc:0.994392+0.00271819\ttest-auc:0.900205+0.167301\n",
      "[41]\ttrain-auc:0.99444+0.00276769\ttest-auc:0.900138+0.167265\n",
      "[42]\ttrain-auc:0.99444+0.00276769\ttest-auc:0.900138+0.167265\n",
      "[43]\ttrain-auc:0.994475+0.00270944\ttest-auc:0.900138+0.167265\n",
      "[44]\ttrain-auc:0.994475+0.00270944\ttest-auc:0.900138+0.167265\n",
      "[45]\ttrain-auc:0.994521+0.00276466\ttest-auc:0.900138+0.167265\n",
      "[46]\ttrain-auc:0.994741+0.00241614\ttest-auc:0.900138+0.167265\n",
      "[47]\ttrain-auc:0.994741+0.00241614\ttest-auc:0.900138+0.167265\n",
      "[48]\ttrain-auc:0.994718+0.00242296\ttest-auc:0.900439+0.167434\n",
      "[49]\ttrain-auc:0.994709+0.00245655\ttest-auc:0.900639+0.167548\n",
      "[50]\ttrain-auc:0.994755+0.00239074\ttest-auc:0.900773+0.167619\n",
      "[51]\ttrain-auc:0.994755+0.00239074\ttest-auc:0.900773+0.167619\n",
      "[52]\ttrain-auc:0.994755+0.00239074\ttest-auc:0.900773+0.167619\n",
      "[53]\ttrain-auc:0.99474+0.0024124\ttest-auc:0.900773+0.167619\n",
      "[54]\ttrain-auc:0.99474+0.0024124\ttest-auc:0.900773+0.167619\n",
      "[55]\ttrain-auc:0.99474+0.0024124\ttest-auc:0.900773+0.167619\n",
      "[56]\ttrain-auc:0.99474+0.0024124\ttest-auc:0.900773+0.167619\n",
      "[57]\ttrain-auc:0.99474+0.0024124\ttest-auc:0.900773+0.167619\n",
      "[58]\ttrain-auc:0.994745+0.00240516\ttest-auc:0.900773+0.167619\n",
      "[59]\ttrain-auc:0.994745+0.00240516\ttest-auc:0.900773+0.167619\n",
      "[60]\ttrain-auc:0.99475+0.00240321\ttest-auc:0.900773+0.167619\n",
      "[61]\ttrain-auc:0.99475+0.00240321\ttest-auc:0.900773+0.167619\n",
      "\n",
      "Model Report\n",
      "AUC Score (Train): 0.9818836667643566\n",
      "\n",
      ">>>>  Model training Done ------------------------------------------------------------------------- TC:1.924\n",
      "\n"
     ]
    }
   ],
   "source": [
    "s.init_model()\n",
    "s.train()"
   ]
  },
  {
   "cell_type": "code",
   "execution_count": 21,
   "metadata": {
    "collapsed": false
   },
   "outputs": [
    {
     "name": "stdout",
     "output_type": "stream",
     "text": [
      "\n",
      "Please specify a new cfg file:\n",
      "./cfg/default.cfg\n",
      "To double check, your cfg file is:\n",
      "./cfg/default.cfg\n",
      "{'max_depth': 1, 'min_child_weight': 1, 'gamma': 0.0, 'colsample_bytree': 0.6, 'subsample': 0.6, 'reg_alpha': 1}\n"
     ]
    }
   ],
   "source": [
    "s.para_tune_fcg = input(\"\\nPlease specify a new cfg file:\\n\")\n",
    "cfg = load_json(s.para_tune_fcg)\n",
    "print(\"To double check, your cfg file is:\\n{0}\\n{1}\".format(s.para_tune_fcg,cfg))"
   ]
  },
  {
   "cell_type": "code",
   "execution_count": null,
   "metadata": {
    "collapsed": true
   },
   "outputs": [],
   "source": []
  }
 ],
 "metadata": {
  "kernelspec": {
   "display_name": "Python 3",
   "language": "python",
   "name": "python3"
  },
  "language_info": {
   "codemirror_mode": {
    "name": "ipython",
    "version": 3
   },
   "file_extension": ".py",
   "mimetype": "text/x-python",
   "name": "python",
   "nbconvert_exporter": "python",
   "pygments_lexer": "ipython3",
   "version": "3.6.0"
  }
 },
 "nbformat": 4,
 "nbformat_minor": 2
}
