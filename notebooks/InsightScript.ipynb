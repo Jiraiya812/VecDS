{
 "cells": [
  {
   "cell_type": "code",
   "execution_count": 1,
   "metadata": {},
   "outputs": [],
   "source": [
    "import pandas as pd\n",
    "import numpy as np\n",
    "\n",
    "\n",
    "df = pd.read_csv('./data/flow_train.csv')"
   ]
  },
  {
   "cell_type": "code",
   "execution_count": 13,
   "metadata": {},
   "outputs": [
    {
     "name": "stdout",
     "output_type": "stream",
     "text": [
      "flow df shape: (26852, 6)\n",
      "unique number of city 7\n",
      "unique number of district 98\n"
     ]
    },
    {
     "data": {
      "text/html": [
       "<div>\n",
       "<style scoped>\n",
       "    .dataframe tbody tr th:only-of-type {\n",
       "        vertical-align: middle;\n",
       "    }\n",
       "\n",
       "    .dataframe tbody tr th {\n",
       "        vertical-align: top;\n",
       "    }\n",
       "\n",
       "    .dataframe thead th {\n",
       "        text-align: right;\n",
       "    }\n",
       "</style>\n",
       "<table border=\"1\" class=\"dataframe\">\n",
       "  <thead>\n",
       "    <tr style=\"text-align: right;\">\n",
       "      <th></th>\n",
       "      <th>date_dt</th>\n",
       "      <th>city_code</th>\n",
       "      <th>district_code</th>\n",
       "      <th>dwell</th>\n",
       "      <th>flow_in</th>\n",
       "      <th>flow_out</th>\n",
       "    </tr>\n",
       "  </thead>\n",
       "  <tbody>\n",
       "    <tr>\n",
       "      <th>0</th>\n",
       "      <td>20170601</td>\n",
       "      <td>06d86ef037e4bd311b94467c3320ff38</td>\n",
       "      <td>85792b2278de59316d1158f6a97537ec</td>\n",
       "      <td>118.861740</td>\n",
       "      <td>54.421293</td>\n",
       "      <td>52.089701</td>\n",
       "    </tr>\n",
       "    <tr>\n",
       "      <th>1</th>\n",
       "      <td>20170601</td>\n",
       "      <td>5615dc7c1af1f7dabd80bd8b8ecb1ea0</td>\n",
       "      <td>1d86aa481642ba64ef42e2956339bbad</td>\n",
       "      <td>130.333409</td>\n",
       "      <td>235.490857</td>\n",
       "      <td>231.275943</td>\n",
       "    </tr>\n",
       "    <tr>\n",
       "      <th>2</th>\n",
       "      <td>20170601</td>\n",
       "      <td>c7537db4101856877ea6381d0174283c</td>\n",
       "      <td>08751b85e3dc67f2e690cf8945a4d85b</td>\n",
       "      <td>98.698267</td>\n",
       "      <td>57.672715</td>\n",
       "      <td>54.252464</td>\n",
       "    </tr>\n",
       "    <tr>\n",
       "      <th>3</th>\n",
       "      <td>20170601</td>\n",
       "      <td>5615dc7c1af1f7dabd80bd8b8ecb1ea0</td>\n",
       "      <td>50ec193f67e23ca084bb7af4100c1243</td>\n",
       "      <td>280.984567</td>\n",
       "      <td>571.333345</td>\n",
       "      <td>555.579813</td>\n",
       "    </tr>\n",
       "    <tr>\n",
       "      <th>4</th>\n",
       "      <td>20170601</td>\n",
       "      <td>3f7f0ce35d6d0a08377eb2efe2189f4f</td>\n",
       "      <td>dad5b1a26517a039827215846bcaf394</td>\n",
       "      <td>99.126162</td>\n",
       "      <td>72.334678</td>\n",
       "      <td>69.968155</td>\n",
       "    </tr>\n",
       "  </tbody>\n",
       "</table>\n",
       "</div>"
      ],
      "text/plain": [
       "    date_dt                         city_code  \\\n",
       "0  20170601  06d86ef037e4bd311b94467c3320ff38   \n",
       "1  20170601  5615dc7c1af1f7dabd80bd8b8ecb1ea0   \n",
       "2  20170601  c7537db4101856877ea6381d0174283c   \n",
       "3  20170601  5615dc7c1af1f7dabd80bd8b8ecb1ea0   \n",
       "4  20170601  3f7f0ce35d6d0a08377eb2efe2189f4f   \n",
       "\n",
       "                      district_code       dwell     flow_in    flow_out  \n",
       "0  85792b2278de59316d1158f6a97537ec  118.861740   54.421293   52.089701  \n",
       "1  1d86aa481642ba64ef42e2956339bbad  130.333409  235.490857  231.275943  \n",
       "2  08751b85e3dc67f2e690cf8945a4d85b   98.698267   57.672715   54.252464  \n",
       "3  50ec193f67e23ca084bb7af4100c1243  280.984567  571.333345  555.579813  \n",
       "4  dad5b1a26517a039827215846bcaf394   99.126162   72.334678   69.968155  "
      ]
     },
     "execution_count": 13,
     "metadata": {},
     "output_type": "execute_result"
    }
   ],
   "source": [
    "print(\"flow df shape:\",df.shape)\n",
    "print(\"unique number of city\",df['city_code'].unique().shape[0])\n",
    "print(\"unique number of district\",df['district_code'].unique().shape[0])\n",
    "df.head()"
   ]
  },
  {
   "cell_type": "markdown",
   "metadata": {},
   "source": [
    "Is the district code unique regardless of city ? "
   ]
  },
  {
   "cell_type": "code",
   "execution_count": 34,
   "metadata": {},
   "outputs": [
    {
     "data": {
      "text/plain": [
       "True"
      ]
     },
     "execution_count": 34,
     "metadata": {},
     "output_type": "execute_result"
    }
   ],
   "source": [
    "long_code = df['district_code']+'-'+ df['city_code']\n",
    "long_code.unique().shape[0] == df['district_code'].unique().shape[0]"
   ]
  },
  {
   "cell_type": "code",
   "execution_count": 28,
   "metadata": {},
   "outputs": [
    {
     "name": "stdout",
     "output_type": "stream",
     "text": [
      "transiction df shape:  (2480320, 6)\n",
      "date range: 20170601 to 20180301\n"
     ]
    },
    {
     "data": {
      "text/html": [
       "<div>\n",
       "<style scoped>\n",
       "    .dataframe tbody tr th:only-of-type {\n",
       "        vertical-align: middle;\n",
       "    }\n",
       "\n",
       "    .dataframe tbody tr th {\n",
       "        vertical-align: top;\n",
       "    }\n",
       "\n",
       "    .dataframe thead th {\n",
       "        text-align: right;\n",
       "    }\n",
       "</style>\n",
       "<table border=\"1\" class=\"dataframe\">\n",
       "  <thead>\n",
       "    <tr style=\"text-align: right;\">\n",
       "      <th></th>\n",
       "      <th>date_dt</th>\n",
       "      <th>o_city_code</th>\n",
       "      <th>o_district_code</th>\n",
       "      <th>d_city_code</th>\n",
       "      <th>d_district_code</th>\n",
       "      <th>cnt</th>\n",
       "    </tr>\n",
       "  </thead>\n",
       "  <tbody>\n",
       "    <tr>\n",
       "      <th>0</th>\n",
       "      <td>20170601</td>\n",
       "      <td>a20d041605db832309e26c003c626719</td>\n",
       "      <td>879c99a1536ce81df8e84c0c9cf6ff68</td>\n",
       "      <td>3f7f0ce35d6d0a08377eb2efe2189f4f</td>\n",
       "      <td>01bb949d16b241654d3be95fa224abc8</td>\n",
       "      <td>0.008733</td>\n",
       "    </tr>\n",
       "    <tr>\n",
       "      <th>1</th>\n",
       "      <td>20170601</td>\n",
       "      <td>c7537db4101856877ea6381d0174283c</td>\n",
       "      <td>82271c9f4c9bf3b072ebe43b29d01caf</td>\n",
       "      <td>c7537db4101856877ea6381d0174283c</td>\n",
       "      <td>4a2ee3a671acbb271743ca0abbcadc70</td>\n",
       "      <td>2.066705</td>\n",
       "    </tr>\n",
       "    <tr>\n",
       "      <th>2</th>\n",
       "      <td>20170601</td>\n",
       "      <td>5615dc7c1af1f7dabd80bd8b8ecb1ea0</td>\n",
       "      <td>2d9ca395c9405028ca5d6635253d7166</td>\n",
       "      <td>a20d041605db832309e26c003c626719</td>\n",
       "      <td>01c2fa70527b0c72808f3bc27eaad4c9</td>\n",
       "      <td>0.177562</td>\n",
       "    </tr>\n",
       "    <tr>\n",
       "      <th>3</th>\n",
       "      <td>20170601</td>\n",
       "      <td>a20d041605db832309e26c003c626719</td>\n",
       "      <td>cc000ec2dd2b1c6571e74cecc641656e</td>\n",
       "      <td>58a33c947775af5de36841c9f553317d</td>\n",
       "      <td>0b28636d08bff292de12f663d522c55f</td>\n",
       "      <td>0.113523</td>\n",
       "    </tr>\n",
       "    <tr>\n",
       "      <th>4</th>\n",
       "      <td>20170601</td>\n",
       "      <td>c7537db4101856877ea6381d0174283c</td>\n",
       "      <td>3f92d69b5335d09f3365beaeec3da4b8</td>\n",
       "      <td>58a33c947775af5de36841c9f553317d</td>\n",
       "      <td>0b28636d08bff292de12f663d522c55f</td>\n",
       "      <td>0.058217</td>\n",
       "    </tr>\n",
       "  </tbody>\n",
       "</table>\n",
       "</div>"
      ],
      "text/plain": [
       "    date_dt                       o_city_code  \\\n",
       "0  20170601  a20d041605db832309e26c003c626719   \n",
       "1  20170601  c7537db4101856877ea6381d0174283c   \n",
       "2  20170601  5615dc7c1af1f7dabd80bd8b8ecb1ea0   \n",
       "3  20170601  a20d041605db832309e26c003c626719   \n",
       "4  20170601  c7537db4101856877ea6381d0174283c   \n",
       "\n",
       "                    o_district_code                       d_city_code  \\\n",
       "0  879c99a1536ce81df8e84c0c9cf6ff68  3f7f0ce35d6d0a08377eb2efe2189f4f   \n",
       "1  82271c9f4c9bf3b072ebe43b29d01caf  c7537db4101856877ea6381d0174283c   \n",
       "2  2d9ca395c9405028ca5d6635253d7166  a20d041605db832309e26c003c626719   \n",
       "3  cc000ec2dd2b1c6571e74cecc641656e  58a33c947775af5de36841c9f553317d   \n",
       "4  3f92d69b5335d09f3365beaeec3da4b8  58a33c947775af5de36841c9f553317d   \n",
       "\n",
       "                    d_district_code       cnt  \n",
       "0  01bb949d16b241654d3be95fa224abc8  0.008733  \n",
       "1  4a2ee3a671acbb271743ca0abbcadc70  2.066705  \n",
       "2  01c2fa70527b0c72808f3bc27eaad4c9  0.177562  \n",
       "3  0b28636d08bff292de12f663d522c55f  0.113523  \n",
       "4  0b28636d08bff292de12f663d522c55f  0.058217  "
      ]
     },
     "execution_count": 28,
     "metadata": {},
     "output_type": "execute_result"
    }
   ],
   "source": [
    "df2 = pd.read_csv('./data/transition_train.csv')\n",
    "print(\"transiction df shape: \",df2.shape)\n",
    "print(\"date range: {} to {}\".format(df2['date_dt'].min(),df2['date_dt'].max()))\n",
    "df2.head()"
   ]
  },
  {
   "cell_type": "code",
   "execution_count": 21,
   "metadata": {},
   "outputs": [
    {
     "data": {
      "text/plain": [
       "25068.39920591951"
      ]
     },
     "execution_count": 21,
     "metadata": {},
     "output_type": "execute_result"
    }
   ],
   "source": [
    "df2[(df2['o_city_code']=='a20d041605db832309e26c003c626719') & (df2['date_dt']==20170601)]['cnt'].sum()"
   ]
  },
  {
   "cell_type": "code",
   "execution_count": 27,
   "metadata": {},
   "outputs": [
    {
     "data": {
      "text/plain": [
       "25068.39920591951"
      ]
     },
     "execution_count": 27,
     "metadata": {},
     "output_type": "execute_result"
    }
   ],
   "source": [
    "df[(df['city_code']=='a20d041605db832309e26c003c626719') & (df['date_dt']==20170601)]['flow_out'].sum()"
   ]
  },
  {
   "cell_type": "code",
   "execution_count": null,
   "metadata": {},
   "outputs": [],
   "source": []
  }
 ],
 "metadata": {
  "kernelspec": {
   "display_name": "Python 3",
   "language": "python",
   "name": "python3"
  },
  "language_info": {
   "codemirror_mode": {
    "name": "ipython",
    "version": 3
   },
   "file_extension": ".py",
   "mimetype": "text/x-python",
   "name": "python",
   "nbconvert_exporter": "python",
   "pygments_lexer": "ipython3",
   "version": "3.6.5"
  }
 },
 "nbformat": 4,
 "nbformat_minor": 2
}
